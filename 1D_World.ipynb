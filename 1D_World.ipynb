{
 "cells": [
  {
   "cell_type": "code",
   "execution_count": 10,
   "metadata": {
    "collapsed": true
   },
   "outputs": [],
   "source": [
    "from __future__ import print_function\n",
    "\n",
    "import numpy as np\n",
    "import pandas as pd\n",
    "import time\n",
    "\n",
    "np.random.seed(2)  # reproducible\n",
    "\n",
    "N_STATES = 10 \n",
    "ACTIONS = ['left', 'right']  \n",
    "EPSILON = 0.9 \n",
    "ALPHA = 0.1 \n",
    "GAMMA = 0.9 \n",
    "MAX_EPISODES = 13\n",
    "FRESH_TIME = 0.3 "
   ]
  },
  {
   "cell_type": "code",
   "execution_count": 11,
   "metadata": {
    "collapsed": true
   },
   "outputs": [],
   "source": [
    "def build_q_table(n_states, actions):\n",
    "    table = pd.DataFrame(\n",
    "        np.zeros((n_states, len(actions))), \n",
    "        columns=actions,\n",
    "    )\n",
    "    return table"
   ]
  },
  {
   "cell_type": "raw",
   "metadata": {},
   "source": [
    "q_table:\n",
    "   left  right\n",
    "0   0.0    0.0\n",
    "1   0.0    0.0\n",
    "2   0.0    0.0\n",
    "3   0.0    0.0\n",
    "4   0.0    0.0\n",
    "5   0.0    0.0"
   ]
  },
  {
   "cell_type": "code",
   "execution_count": 12,
   "metadata": {
    "collapsed": true
   },
   "outputs": [],
   "source": [
    "def choose_action(state, q_table):\n",
    "    state_actions = q_table.iloc[state, :]  \n",
    "    if (np.random.uniform() > EPSILON) or (state_actions.all() == 0):\n",
    "        action_name = np.random.choice(ACTIONS)\n",
    "    else:\n",
    "        action_name = state_actions.argmax()\n",
    "    return action_name"
   ]
  },
  {
   "cell_type": "code",
   "execution_count": 13,
   "metadata": {
    "collapsed": true
   },
   "outputs": [],
   "source": [
    "\n",
    "def get_env_feedback(S, A):\n",
    "    # This is how agent will interact with the environment\n",
    "    if A == 'right':    # move right\n",
    "        if S == N_STATES - 2:   # terminate\n",
    "            S_ = 'terminal'\n",
    "            R = 1\n",
    "        else:\n",
    "            S_ = S + 1\n",
    "            R = 0\n",
    "    else:   # move left\n",
    "        R = 0\n",
    "        if S == 0:\n",
    "            S_ = S  # reach the wall\n",
    "        else:\n",
    "            S_ = S - 1\n",
    "    return S_, R"
   ]
  },
  {
   "cell_type": "code",
   "execution_count": 14,
   "metadata": {
    "collapsed": true
   },
   "outputs": [],
   "source": [
    "\n",
    "def update_env(S, episode, step_counter):\n",
    "    # This is how environment be updated\n",
    "    env_list = ['-']*(N_STATES-1) + ['T'] \n",
    "    if S == 'terminal':\n",
    "        interaction = 'Episode %s: total_steps = %s' % (episode+1, step_counter)\n",
    "        print('\\r{}'.format(interaction), end='')\n",
    "        time.sleep(2)\n",
    "        print('\\r                                ', end='')\n",
    "    else:\n",
    "        env_list[S] = 'o'\n",
    "        interaction = ''.join(env_list)\n",
    "        print('\\r{}'.format(interaction), end='')\n",
    "        time.sleep(FRESH_TIME)"
   ]
  },
  {
   "cell_type": "code",
   "execution_count": 15,
   "metadata": {
    "collapsed": true
   },
   "outputs": [],
   "source": [
    "\n",
    "def rl():\n",
    "    q_table = build_q_table(N_STATES, ACTIONS) \n",
    "    for episode in range(MAX_EPISODES):  \n",
    "        step_counter = 0\n",
    "        S = 0 \n",
    "        is_terminated = False  \n",
    "        update_env(S, episode, step_counter)  \n",
    "        while not is_terminated:\n",
    "\n",
    "            A = choose_action(S, q_table) \n",
    "            S_, R = get_env_feedback(S, A) \n",
    "            q_predict = q_table.ix[S, A] \n",
    "            if S_ != 'terminal':\n",
    "                q_target = R + GAMMA * q_table.iloc[S_, :].max() \n",
    "            else:\n",
    "                q_target = R  \n",
    "                is_terminated = True  \n",
    "\n",
    "            q_table.ix[S, A] += ALPHA * (q_target - q_predict)\n",
    "            S = S_ \n",
    "\n",
    "            update_env(S, episode, step_counter+1) \n",
    "\n",
    "            step_counter += 1\n",
    "    return q_table"
   ]
  },
  {
   "cell_type": "code",
   "execution_count": 16,
   "metadata": {},
   "outputs": [
    {
     "name": "stdout",
     "output_type": "stream",
     "text": [
      "\r",
      "o--------T"
     ]
    },
    {
     "name": "stderr",
     "output_type": "stream",
     "text": [
      "/usr1/home/bohanl1/.local/lib/python2.7/site-packages/ipykernel_launcher.py:13: DeprecationWarning: \n",
      ".ix is deprecated. Please use\n",
      ".loc for label based indexing or\n",
      ".iloc for positional indexing\n",
      "\n",
      "See the documentation here:\n",
      "http://pandas.pydata.org/pandas-docs/stable/indexing.html#ix-indexer-is-deprecated\n",
      "  del sys.path[0]\n"
     ]
    },
    {
     "name": "stdout",
     "output_type": "stream",
     "text": [
      "                                \n",
      "Q-table:\n",
      "\n",
      "           left         right\n",
      "0  2.061077e-10  8.036376e-07\n",
      "1  8.813455e-09  1.355705e-05\n",
      "2  3.573249e-07  1.924061e-04\n",
      "3  1.715274e-05  1.007605e-03\n",
      "4  4.666368e-05  6.253090e-03\n",
      "5  2.184813e-06  3.333784e-02\n",
      "6  1.755662e-03  1.224253e-01\n",
      "7  7.290000e-05  3.631579e-01\n",
      "8  1.795456e-02  7.458134e-01\n",
      "9  0.000000e+00  0.000000e+00\n"
     ]
    }
   ],
   "source": [
    "if __name__ == \"__main__\":\n",
    "    q_table = rl()\n",
    "    print('\\r\\nQ-table:\\n')\n",
    "    print(q_table)"
   ]
  },
  {
   "cell_type": "code",
   "execution_count": null,
   "metadata": {
    "collapsed": true
   },
   "outputs": [],
   "source": []
  }
 ],
 "metadata": {
  "kernelspec": {
   "display_name": "Python 2",
   "language": "python",
   "name": "python2"
  },
  "language_info": {
   "codemirror_mode": {
    "name": "ipython",
    "version": 2
   },
   "file_extension": ".py",
   "mimetype": "text/x-python",
   "name": "python",
   "nbconvert_exporter": "python",
   "pygments_lexer": "ipython2",
   "version": "2.7.6"
  }
 },
 "nbformat": 4,
 "nbformat_minor": 1
}
